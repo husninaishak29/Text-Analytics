{
 "cells": [
  {
   "cell_type": "markdown",
   "metadata": {},
   "source": [
    "## Data Gathering & Extraction (Most Popular Movie in Romance Genre)"
   ]
  },
  {
   "cell_type": "code",
   "execution_count": 1,
   "metadata": {},
   "outputs": [
    {
     "name": "stdout",
     "output_type": "stream",
     "text": [
      "DataFrame saved to romance_imdb_reviews.csv\n"
     ]
    }
   ],
   "source": [
    "import requests\n",
    "from bs4 import BeautifulSoup\n",
    "import pandas as pd\n",
    "import time\n",
    "\n",
    "# Base URL for the AJAX requests to load more reviews\n",
    "base_url = \"https://www.imdb.com/title/tt8740790/reviews/_ajax\"\n",
    "\n",
    "# Headers to mimic a browser request\n",
    "headers = {\n",
    "    \"User-Agent\": \"Mozilla/5.0 (Windows NT 10.0; Win64; x64) AppleWebKit/537.36 (KHTML, like Gecko) Chrome/58.0.3029.110 Safari/537.3\"\n",
    "}\n",
    "\n",
    "# Initialize empty lists to store data from web scraping\n",
    "review_titles = []\n",
    "review_contents = []\n",
    "ratings = []\n",
    "\n",
    "# Function to extract reviews from the current page\n",
    "def extract_reviews(soup):\n",
    "    review_data = soup.find_all('div', {\"class\": \"review-container\"})\n",
    "    for row in review_data:\n",
    "        # Extract review title data\n",
    "        review_title_element = row.find(\"a\", {\"class\": \"title\"})\n",
    "        if review_title_element:\n",
    "            review_titles.append(review_title_element.text.strip())\n",
    "\n",
    "        # Extract review content data\n",
    "        review_content_element = row.find(\"div\", {\"class\": \"text show-more__control\"})\n",
    "        if review_content_element:\n",
    "            review_contents.append(review_content_element.text.strip())\n",
    "            \n",
    "        # Extract rating score (assuming the structure is consistent)\n",
    "        rating_element = row.find(\"span\", class_=\"rating-other-user-rating\")  # Target the relevant element\n",
    "        if rating_element:\n",
    "            score_element = rating_element.find(\"span\", string=lambda text: text and text.isdigit())\n",
    "            if score_element:\n",
    "                ratings.append(score_element.text.strip())\n",
    "            else:\n",
    "                ratings.append(None)  # Append None if rating not found within the element\n",
    "        else:\n",
    "            ratings.append(None)  # Append None if the entire rating element is not found\n",
    "\n",
    "# Initial request to get the first page\n",
    "response = requests.get(base_url, headers=headers, timeout=10)\n",
    "soup = BeautifulSoup(response.text, \"html.parser\")\n",
    "extract_reviews(soup)\n",
    "\n",
    "# Find the pagination key for the next page\n",
    "load_more_data = soup.find(\"div\", {\"class\": \"load-more-data\"})\n",
    "pagination_key = load_more_data[\"data-key\"] if load_more_data else None\n",
    "\n",
    "# Loop through subsequent pages until there are no more pages\n",
    "while pagination_key:\n",
    "    try:\n",
    "        response = requests.get(base_url, headers=headers, params={\"paginationKey\": pagination_key}, timeout=10)\n",
    "        soup = BeautifulSoup(response.text, \"html.parser\")\n",
    "        extract_reviews(soup)\n",
    "        load_more_data = soup.find(\"div\", {\"class\": \"load-more-data\"})\n",
    "        pagination_key = load_more_data[\"data-key\"] if load_more_data else None\n",
    "        time.sleep(3)  # Adding a delay to avoid overwhelming the server\n",
    "    except requests.exceptions.RequestException as e:\n",
    "        print(f\"An error occurred: {e}\")\n",
    "        time.sleep(5)  # Wait before retrying\n",
    "        continue\n",
    "\n",
    "# Create the DataFrame\n",
    "df = pd.DataFrame({'Title': review_titles, 'Review': review_contents, 'Rating Score': ratings,})\n",
    "\n",
    "# Specify the filename\n",
    "file_name = 'romance_imdb_reviews.csv'\n",
    "\n",
    "# Save the DataFrame to a CSV file\n",
    "df.to_csv(file_name, index=False)  # Avoid including the index column\n",
    "\n",
    "print(\"DataFrame saved to\", file_name)\n"
   ]
  },
  {
   "cell_type": "code",
   "execution_count": null,
   "metadata": {},
   "outputs": [],
   "source": []
  }
 ],
 "metadata": {
  "kernelspec": {
   "display_name": "Python 3 (ipykernel)",
   "language": "python",
   "name": "python3"
  },
  "language_info": {
   "codemirror_mode": {
    "name": "ipython",
    "version": 3
   },
   "file_extension": ".py",
   "mimetype": "text/x-python",
   "name": "python",
   "nbconvert_exporter": "python",
   "pygments_lexer": "ipython3",
   "version": "3.11.7"
  }
 },
 "nbformat": 4,
 "nbformat_minor": 2
}
