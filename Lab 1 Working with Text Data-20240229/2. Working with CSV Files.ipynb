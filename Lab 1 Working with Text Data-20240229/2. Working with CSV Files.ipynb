{
 "cells": [
  {
   "cell_type": "code",
   "execution_count": 2,
   "id": "207d4720",
   "metadata": {},
   "outputs": [],
   "source": [
    "import csv"
   ]
  },
  {
   "cell_type": "code",
   "execution_count": 3,
   "id": "0ab2281e",
   "metadata": {},
   "outputs": [],
   "source": [
    "# Define the CSV file name\n",
    "csv_file = 'sample_data.csv'\n",
    "# Define the output text file name\n",
    "output_file = 'comments.txt'"
   ]
  },
  {
   "cell_type": "code",
   "execution_count": 6,
   "id": "879e5306",
   "metadata": {},
   "outputs": [],
   "source": [
    "# Open the CSV file for reading\n",
    "with open(csv_file, 'r', newline='') as csvfile:\n",
    " # Create a CSV reader object\n",
    " reader = csv.DictReader(csvfile)\n",
    " \n",
    " # Initialize a list to store the comments\n",
    " comments = []\n",
    " \n",
    " # Iterate over each row in the CSV file\n",
    " for row in reader:\n",
    " # Extract the 'comments' column value and add it to the list\n",
    "     comments.append(row['comments'])"
   ]
  },
  {
   "cell_type": "code",
   "execution_count": 8,
   "id": "bb5956eb",
   "metadata": {},
   "outputs": [],
   "source": [
    "# Open the output text file for writing\n",
    "with open(output_file, 'w') as txtfile:\n",
    " # Write each comment to the text file\n",
    " for comment in comments:\n",
    "     txtfile.write(comment + '\\n')"
   ]
  },
  {
   "cell_type": "code",
   "execution_count": 9,
   "id": "f72ec2a4",
   "metadata": {},
   "outputs": [
    {
     "name": "stdout",
     "output_type": "stream",
     "text": [
      "Comments extracted and saved to comments.txt\n"
     ]
    }
   ],
   "source": [
    "print(\"Comments extracted and saved to\", output_file)"
   ]
  },
  {
   "cell_type": "code",
   "execution_count": null,
   "id": "0f21cef1",
   "metadata": {},
   "outputs": [],
   "source": []
  }
 ],
 "metadata": {
  "kernelspec": {
   "display_name": "Python 3 (ipykernel)",
   "language": "python",
   "name": "python3"
  },
  "language_info": {
   "codemirror_mode": {
    "name": "ipython",
    "version": 3
   },
   "file_extension": ".py",
   "mimetype": "text/x-python",
   "name": "python",
   "nbconvert_exporter": "python",
   "pygments_lexer": "ipython3",
   "version": "3.11.5"
  }
 },
 "nbformat": 4,
 "nbformat_minor": 5
}
