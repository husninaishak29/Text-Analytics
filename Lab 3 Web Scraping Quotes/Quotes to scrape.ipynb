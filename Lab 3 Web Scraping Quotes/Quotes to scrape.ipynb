{
 "cells": [
  {
   "cell_type": "code",
   "execution_count": 21,
   "id": "36f2e6ae",
   "metadata": {},
   "outputs": [],
   "source": [
    "import requests\n",
    "from bs4 import BeautifulSoup\n",
    "import csv"
   ]
  },
  {
   "cell_type": "code",
   "execution_count": 22,
   "id": "dc14382c",
   "metadata": {},
   "outputs": [],
   "source": [
    "# Send a GET request to the website\n",
    "page = requests.get('https://quotes.toscrape.com')"
   ]
  },
  {
   "cell_type": "code",
   "execution_count": 23,
   "id": "98c3e559",
   "metadata": {},
   "outputs": [],
   "source": [
    "# Parse the HTML content\n",
    "soup = BeautifulSoup(page.text, 'html.parser')"
   ]
  },
  {
   "cell_type": "code",
   "execution_count": 24,
   "id": "c026402d",
   "metadata": {},
   "outputs": [],
   "source": [
    "# Create a list to store quotes\n",
    "quotes = []"
   ]
  },
  {
   "cell_type": "code",
   "execution_count": 25,
   "id": "5dfe92a1",
   "metadata": {},
   "outputs": [],
   "source": [
    "quote_elements = soup.find_all('div', class_='quote')"
   ]
  },
  {
   "cell_type": "code",
   "execution_count": 26,
   "id": "f679413f",
   "metadata": {},
   "outputs": [],
   "source": [
    "for quote_element in quote_elements:\n",
    "    # extract the text of the quote\n",
    "    text = quote_element.find('span', class_='text').text\n",
    "    # extract the author of the quote\n",
    "    author = quote_element.find('small', class_='author').text\n",
    "\n",
    "    # extract the tag <a> HTML elements related to the quote\n",
    "    tag_elements = quote_element.select('.tags .tag')\n",
    "\n",
    "    # store the list of tag strings in a list\n",
    "    tags = []\n",
    "    for tag_element in tag_elements:\n",
    "        tags.append(tag_element.text)\n",
    "        \n",
    "    quotes.append(\n",
    "    {\n",
    "        'text': text,\n",
    "        'author': author,\n",
    "        'tags': ', '.join(tags) # merge the tags into a \"A, B, ..., Z\" string\n",
    "    }\n",
    ")"
   ]
  },
  {
   "cell_type": "code",
   "execution_count": 27,
   "id": "ca8a333d",
   "metadata": {
    "scrolled": true
   },
   "outputs": [
    {
     "data": {
      "text/plain": [
       "[{'text': '“The world as we have created it is a process of our thinking. It cannot be changed without changing our thinking.”',\n",
       "  'author': 'Albert Einstein',\n",
       "  'tags': 'change, deep-thoughts, thinking, world'},\n",
       " {'text': '“It is our choices, Harry, that show what we truly are, far more than our abilities.”',\n",
       "  'author': 'J.K. Rowling',\n",
       "  'tags': 'abilities, choices'},\n",
       " {'text': '“There are only two ways to live your life. One is as though nothing is a miracle. The other is as though everything is a miracle.”',\n",
       "  'author': 'Albert Einstein',\n",
       "  'tags': 'inspirational, life, live, miracle, miracles'},\n",
       " {'text': '“The person, be it gentleman or lady, who has not pleasure in a good novel, must be intolerably stupid.”',\n",
       "  'author': 'Jane Austen',\n",
       "  'tags': 'aliteracy, books, classic, humor'},\n",
       " {'text': \"“Imperfection is beauty, madness is genius and it's better to be absolutely ridiculous than absolutely boring.”\",\n",
       "  'author': 'Marilyn Monroe',\n",
       "  'tags': 'be-yourself, inspirational'},\n",
       " {'text': '“Try not to become a man of success. Rather become a man of value.”',\n",
       "  'author': 'Albert Einstein',\n",
       "  'tags': 'adulthood, success, value'},\n",
       " {'text': '“It is better to be hated for what you are than to be loved for what you are not.”',\n",
       "  'author': 'André Gide',\n",
       "  'tags': 'life, love'},\n",
       " {'text': \"“I have not failed. I've just found 10,000 ways that won't work.”\",\n",
       "  'author': 'Thomas A. Edison',\n",
       "  'tags': 'edison, failure, inspirational, paraphrased'},\n",
       " {'text': \"“A woman is like a tea bag; you never know how strong it is until it's in hot water.”\",\n",
       "  'author': 'Eleanor Roosevelt',\n",
       "  'tags': 'misattributed-eleanor-roosevelt'},\n",
       " {'text': '“A day without sunshine is like, you know, night.”',\n",
       "  'author': 'Steve Martin',\n",
       "  'tags': 'humor, obvious, simile'}]"
      ]
     },
     "execution_count": 27,
     "metadata": {},
     "output_type": "execute_result"
    }
   ],
   "source": [
    "quotes"
   ]
  },
  {
   "cell_type": "code",
   "execution_count": 28,
   "id": "9c450a30",
   "metadata": {},
   "outputs": [
    {
     "name": "stdout",
     "output_type": "stream",
     "text": [
      "Quote:  “The world as we have created it is a process of our thinking. It cannot be changed without changing our thinking.”\n",
      "Author:  Albert Einstein\n",
      "Tags:  change, deep-thoughts, thinking, world\n",
      "\n",
      "Quote:  “It is our choices, Harry, that show what we truly are, far more than our abilities.”\n",
      "Author:  J.K. Rowling\n",
      "Tags:  abilities, choices\n",
      "\n",
      "Quote:  “There are only two ways to live your life. One is as though nothing is a miracle. The other is as though everything is a miracle.”\n",
      "Author:  Albert Einstein\n",
      "Tags:  inspirational, life, live, miracle, miracles\n",
      "\n",
      "Quote:  “The person, be it gentleman or lady, who has not pleasure in a good novel, must be intolerably stupid.”\n",
      "Author:  Jane Austen\n",
      "Tags:  aliteracy, books, classic, humor\n",
      "\n",
      "Quote:  “Imperfection is beauty, madness is genius and it's better to be absolutely ridiculous than absolutely boring.”\n",
      "Author:  Marilyn Monroe\n",
      "Tags:  be-yourself, inspirational\n",
      "\n",
      "Quote:  “Try not to become a man of success. Rather become a man of value.”\n",
      "Author:  Albert Einstein\n",
      "Tags:  adulthood, success, value\n",
      "\n",
      "Quote:  “It is better to be hated for what you are than to be loved for what you are not.”\n",
      "Author:  André Gide\n",
      "Tags:  life, love\n",
      "\n",
      "Quote:  “I have not failed. I've just found 10,000 ways that won't work.”\n",
      "Author:  Thomas A. Edison\n",
      "Tags:  edison, failure, inspirational, paraphrased\n",
      "\n",
      "Quote:  “A woman is like a tea bag; you never know how strong it is until it's in hot water.”\n",
      "Author:  Eleanor Roosevelt\n",
      "Tags:  misattributed-eleanor-roosevelt\n",
      "\n",
      "Quote:  “A day without sunshine is like, you know, night.”\n",
      "Author:  Steve Martin\n",
      "Tags:  humor, obvious, simile\n",
      "\n"
     ]
    }
   ],
   "source": [
    "for quote in quotes:\n",
    "    print(\"Quote: \", quote['text'])\n",
    "    print(\"Author: \", quote['author'])\n",
    "    print(\"Tags: \", quote['tags'])\n",
    "    print()"
   ]
  },
  {
   "cell_type": "code",
   "execution_count": 29,
   "id": "bdf9aef8",
   "metadata": {},
   "outputs": [
    {
     "name": "stdout",
     "output_type": "stream",
     "text": [
      "Quotes have been saved to quotes.csv\n"
     ]
    }
   ],
   "source": [
    "with open('quotes.csv', 'w', encoding='utf-8', newline='') as csvfile:\n",
    "    fieldnames = ['text', 'author', 'tags']\n",
    "    writer = csv.DictWriter(csvfile, fieldnames=fieldnames)\n",
    "    \n",
    "    # Write headers\n",
    "    writer.writeheader()\n",
    "    \n",
    "    # Write quotes\n",
    "    for quote in quotes:\n",
    "        writer.writerow(quote)\n",
    "\n",
    "print(\"Quotes have been saved to quotes.csv\")"
   ]
  },
  {
   "cell_type": "code",
   "execution_count": null,
   "id": "259370ee",
   "metadata": {},
   "outputs": [],
   "source": []
  }
 ],
 "metadata": {
  "kernelspec": {
   "display_name": "Python 3 (ipykernel)",
   "language": "python",
   "name": "python3"
  },
  "language_info": {
   "codemirror_mode": {
    "name": "ipython",
    "version": 3
   },
   "file_extension": ".py",
   "mimetype": "text/x-python",
   "name": "python",
   "nbconvert_exporter": "python",
   "pygments_lexer": "ipython3",
   "version": "3.11.5"
  }
 },
 "nbformat": 4,
 "nbformat_minor": 5
}
